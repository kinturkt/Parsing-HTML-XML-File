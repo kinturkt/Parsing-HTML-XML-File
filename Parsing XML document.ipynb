{
 "cells": [
  {
   "cell_type": "code",
   "execution_count": 19,
   "id": "ee9f5467",
   "metadata": {},
   "outputs": [],
   "source": [
    "# Required library\n",
    "\n",
    "import xml.etree.ElementTree as ET"
   ]
  },
  {
   "cell_type": "code",
   "execution_count": 21,
   "id": "55477638",
   "metadata": {},
   "outputs": [
    {
     "ename": "ParseError",
     "evalue": "not well-formed (invalid token): line 1, column 2 (<string>)",
     "output_type": "error",
     "traceback": [
      "Traceback \u001b[1;36m(most recent call last)\u001b[0m:\n",
      "  File \u001b[0;32m\"c:\\users\\kinu vishu\\appdata\\local\\programs\\python\\python39\\lib\\site-packages\\IPython\\core\\interactiveshell.py\"\u001b[0m, line \u001b[0;32m3441\u001b[0m, in \u001b[0;35mrun_code\u001b[0m\n    exec(code_obj, self.user_global_ns, self.user_ns)\n",
      "  File \u001b[0;32m\"C:\\Users\\KINUVI~1\\AppData\\Local\\Temp/ipykernel_7484/1012266250.py\"\u001b[0m, line \u001b[0;32m3\u001b[0m, in \u001b[0;35m<module>\u001b[0m\n    mytree=ET.parse(\"xmldata.xml\")\n",
      "  File \u001b[0;32m\"c:\\users\\kinu vishu\\appdata\\local\\programs\\python\\python39\\lib\\xml\\etree\\ElementTree.py\"\u001b[0m, line \u001b[0;32m1229\u001b[0m, in \u001b[0;35mparse\u001b[0m\n    tree.parse(source, parser)\n",
      "\u001b[1;36m  File \u001b[1;32m\"c:\\users\\kinu vishu\\appdata\\local\\programs\\python\\python39\\lib\\xml\\etree\\ElementTree.py\"\u001b[1;36m, line \u001b[1;32m580\u001b[1;36m, in \u001b[1;35mparse\u001b[1;36m\u001b[0m\n\u001b[1;33m    self._root = parser._parse_whole(source)\u001b[0m\n",
      "\u001b[1;36m  File \u001b[1;32m\"<string>\"\u001b[1;36m, line \u001b[1;32munknown\u001b[0m\n\u001b[1;31mParseError\u001b[0m\u001b[1;31m:\u001b[0m not well-formed (invalid token): line 1, column 2\n"
     ]
    }
   ],
   "source": [
    "#parsing the XML doucment using parse() function\n",
    "\n",
    "mytree=ET.parse(\"xmldata.xml\")\n",
    "myroot=mytree.getroot() \n",
    "print(myroot)"
   ]
  },
  {
   "cell_type": "code",
   "execution_count": 5,
   "id": "46835160",
   "metadata": {},
   "outputs": [
    {
     "name": "stdout",
     "output_type": "stream",
     "text": [
      "books\n"
     ]
    }
   ],
   "source": [
    "#parse XML data from a string\n",
    "\n",
    "data='''<?xml version=\"1.0\" ?> \n",
    "<books> \n",
    "    <book name=\"A\"> \n",
    "        <title>The Cat in the Hat</title>\n",
    "        <author>Dr. Seuss</author> \n",
    "        <price>6.99</price> </book> \n",
    "    <book>\n",
    "        <title>Ender's Game</title> \n",
    "        <author>Orson Scott Card</author> \n",
    "        <price>8.99</price> \n",
    "    </book> \n",
    "    <book> \n",
    "        <title>Prey</title>\n",
    "        <author>Michael Crichton</author>\n",
    "        <price>9.35</price> \n",
    "    </book>\n",
    "</books> '''\n",
    "myroot1=ET.fromstring(data)\n",
    "print(myroot1.tag)"
   ]
  },
  {
   "cell_type": "code",
   "execution_count": 6,
   "id": "ca7ab48a",
   "metadata": {},
   "outputs": [
    {
     "name": "stdout",
     "output_type": "stream",
     "text": [
      "book\n"
     ]
    }
   ],
   "source": [
    "#finding varoius element and subelement using tag, attrib, text etc \n",
    "print(myroot1[0].tag)"
   ]
  },
  {
   "cell_type": "code",
   "execution_count": 7,
   "id": "face7302",
   "metadata": {},
   "outputs": [
    {
     "name": "stdout",
     "output_type": "stream",
     "text": [
      "{'name': 'A'}\n"
     ]
    }
   ],
   "source": [
    "#checking teh attribute of food tag and attribute is represented using dictionary \n",
    "\n",
    "print(myroot1[0].attrib)"
   ]
  },
  {
   "cell_type": "code",
   "execution_count": 8,
   "id": "f6dc5e7a",
   "metadata": {},
   "outputs": [
    {
     "name": "stdout",
     "output_type": "stream",
     "text": [
      "The Cat in the Hat\n",
      "Dr. Seuss\n",
      "6.99\n"
     ]
    }
   ],
   "source": [
    "#printing text inside myroot tag \n",
    "for i in myroot1[0]:\n",
    "    print(i.text)"
   ]
  },
  {
   "cell_type": "code",
   "execution_count": 10,
   "id": "2144b0e8",
   "metadata": {},
   "outputs": [
    {
     "name": "stdout",
     "output_type": "stream",
     "text": [
      "book {'name': 'A'}\n",
      "book {}\n",
      "book {}\n"
     ]
    }
   ],
   "source": [
    "#print all the child of myroot1:\n",
    "for child in myroot1:\n",
    "    print(child.tag,child.attrib)"
   ]
  },
  {
   "cell_type": "code",
   "execution_count": 23,
   "id": "73894321",
   "metadata": {},
   "outputs": [
    {
     "name": "stdout",
     "output_type": "stream",
     "text": [
      "[<title> name=\"cat copies='2'&gt;The Cat in the Hat</title>, <title>Ender's Game</title>, <title>Prey</title>]\n"
     ]
    },
    {
     "data": {
      "text/plain": [
       "'xml version=\"1.0\" ?>\\n\\n\\n name=\"cat copies=\\'2\\'>The Cat in the Hat\\nDr. Seuss \\n6.99\\n\\n\\nEnder\\'s Game\\nOrson Scott Card\\n8.99\\n\\n\\nPrey\\nMichael Crichton\\n9.35\\n\\n\\n'"
      ]
     },
     "execution_count": 23,
     "metadata": {},
     "output_type": "execute_result"
    }
   ],
   "source": [
    "from bs4 import BeautifulSoup \n",
    "\n",
    "# Reading XML file\n",
    "fh=open('xmldata.xml','r') \n",
    "\n",
    "# Reading Content of HTML file\n",
    "data=fh.read() \n",
    "\n",
    "#Creating Soup object \n",
    "soup=BeautifulSoup(data,'lxml') # (data,'xml') \n",
    "print(soup.find_all('title')) \n",
    "\n",
    "#usning find() to extract attributes of the first instance of the tag \n",
    "cat_title = soup.find(\"title\",{'name':'cat'})\n",
    "\n",
    "# Getting all the text\n",
    "soup.get_text()"
   ]
  },
  {
   "cell_type": "code",
   "execution_count": 13,
   "id": "0f6e9f45",
   "metadata": {},
   "outputs": [
    {
     "data": {
      "text/plain": [
       "'<html>\\n <body>\\n  <p>\\n   xml version=\"1.0\" ?&gt;\\n   <books>\\n    <book>\\n     <title>\\n      name=\"cat copies=\\'2\\'&gt;The Cat in the Hat\\n     </title>\\n     <author>\\n      Dr. Seuss\\n     </author>\\n     <price>\\n      6.99\\n     </price>\\n    </book>\\n    <book>\\n     <title>\\n      Ender\\'s Game\\n     </title>\\n     <author>\\n      Orson Scott Card\\n     </author>\\n     <price>\\n      8.99\\n     </price>\\n    </book>\\n    <book>\\n     <title>\\n      Prey\\n     </title>\\n     <author>\\n      Michael Crichton\\n     </author>\\n     <price>\\n      9.35\\n     </price>\\n    </book>\\n   </books>\\n  </p>\\n </body>\\n</html>'"
      ]
     },
     "execution_count": 13,
     "metadata": {},
     "output_type": "execute_result"
    }
   ],
   "source": [
    "# prettify() method will enable us to view how the tags are nested in the document\n",
    "\n",
    "soup.prettify()"
   ]
  },
  {
   "cell_type": "code",
   "execution_count": null,
   "id": "4e3b878d",
   "metadata": {},
   "outputs": [],
   "source": []
  }
 ],
 "metadata": {
  "kernelspec": {
   "display_name": "Python 3 (ipykernel)",
   "language": "python",
   "name": "python3"
  },
  "language_info": {
   "codemirror_mode": {
    "name": "ipython",
    "version": 3
   },
   "file_extension": ".py",
   "mimetype": "text/x-python",
   "name": "python",
   "nbconvert_exporter": "python",
   "pygments_lexer": "ipython3",
   "version": "3.9.5"
  }
 },
 "nbformat": 4,
 "nbformat_minor": 5
}
